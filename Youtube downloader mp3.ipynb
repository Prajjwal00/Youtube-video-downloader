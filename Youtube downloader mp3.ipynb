{
 "cells": [
  {
   "cell_type": "markdown",
   "metadata": {},
   "source": [
    "# Youtube video downloader\n",
    "\n",
    "Use the \"Run\" button to execute the code."
   ]
  },
  {
   "cell_type": "code",
   "execution_count": 1,
   "metadata": {},
   "outputs": [],
   "source": [
    "!pip install jovian --upgrade --quiet"
   ]
  },
  {
   "cell_type": "code",
   "execution_count": 2,
   "metadata": {},
   "outputs": [],
   "source": [
    "import jovian"
   ]
  },
  {
   "cell_type": "code",
   "execution_count": 45,
   "metadata": {},
   "outputs": [
    {
     "data": {
      "application/javascript": [
       "window.require && require([\"base/js/namespace\"],function(Jupyter){Jupyter.notebook.save_checkpoint()})"
      ],
      "text/plain": [
       "<IPython.core.display.Javascript object>"
      ]
     },
     "metadata": {},
     "output_type": "display_data"
    },
    {
     "name": "stdout",
     "output_type": "stream",
     "text": [
      "[jovian] Creating a new project \"prajjwal00/Youtube downloader mp3\"\u001b[0m\n",
      "[jovian] Committed successfully! https://jovian.ai/prajjwal00/youtube-downloader-mp3\u001b[0m\n"
     ]
    },
    {
     "data": {
      "text/plain": [
       "'https://jovian.ai/prajjwal00/youtube-downloader-mp3'"
      ]
     },
     "execution_count": 45,
     "metadata": {},
     "output_type": "execute_result"
    }
   ],
   "source": [
    "# Execute this to save new versions of the notebook\n",
    "jovian.commit(project=\"Youtube downloader mp3\")"
   ]
  },
  {
   "cell_type": "markdown",
   "metadata": {},
   "source": [
    "#### Importing important files"
   ]
  },
  {
   "cell_type": "code",
   "execution_count": 30,
   "metadata": {},
   "outputs": [
    {
     "name": "stdout",
     "output_type": "stream",
     "text": [
      "Requirement already satisfied: pytube3 in /opt/conda/lib/python3.9/site-packages (9.6.4)\n",
      "Requirement already satisfied: typing-extensions in /opt/conda/lib/python3.9/site-packages (from pytube3) (3.10.0.2)\n"
     ]
    }
   ],
   "source": [
    "!pip install pytube3 --upgrade"
   ]
  },
  {
   "cell_type": "code",
   "execution_count": 39,
   "metadata": {},
   "outputs": [],
   "source": [
    "import pytube\n",
    "import os\n",
    "# !pip install tube_dl\n",
    "# from tube_dl import Youtube"
   ]
  },
  {
   "cell_type": "code",
   "execution_count": 32,
   "metadata": {
    "collapsed": true
   },
   "outputs": [
    {
     "name": "stdout",
     "output_type": "stream",
     "text": [
      "Help on package pytube:\n",
      "\n",
      "NAME\n",
      "    pytube - Pytube: a very serious Python library for downloading YouTube Videos.\n",
      "\n",
      "PACKAGE CONTENTS\n",
      "    __main__\n",
      "    captions\n",
      "    cipher\n",
      "    cli\n",
      "    contrib (package)\n",
      "    exceptions\n",
      "    extract\n",
      "    helpers\n",
      "    innertube\n",
      "    itags\n",
      "    metadata\n",
      "    monostate\n",
      "    parser\n",
      "    query\n",
      "    request\n",
      "    streams\n",
      "    version\n",
      "\n",
      "DATA\n",
      "    __js__ = None\n",
      "    __js_url__ = None\n",
      "    __license__ = 'The Unlicense (Unlicense)'\n",
      "    __title__ = 'pytube'\n",
      "\n",
      "VERSION\n",
      "    12.1.0\n",
      "\n",
      "AUTHOR\n",
      "    Ronnie Ghose, Taylor Fox Dahlin, Nick Ficano\n",
      "\n",
      "FILE\n",
      "    /opt/conda/lib/python3.9/site-packages/pytube/__init__.py\n",
      "\n",
      "\n"
     ]
    }
   ],
   "source": [
    "help(pytube)"
   ]
  },
  {
   "cell_type": "code",
   "execution_count": 40,
   "metadata": {},
   "outputs": [],
   "source": [
    "from pytube import YouTube"
   ]
  },
  {
   "cell_type": "code",
   "execution_count": 42,
   "metadata": {},
   "outputs": [
    {
     "name": "stdout",
     "output_type": "stream",
     "text": [
      "Enter URL of the video you want to downloadhttps://www.youtube.com/watch?v=86vaOUEjWzM\n",
      "Enter destination (leave blank for the current directory)\n",
      ">>Downloads\n",
      "Mariya Takeuchi - Plastic Love 竹内 まりや has been successfully downloaded in .mp3 format.\n"
     ]
    }
   ],
   "source": [
    "#url input from the user\n",
    "yt=YouTube(str(input(\"Enter URL of the video you want to download\")))\n",
    "#extract only audio\n",
    "video=yt.streams.filter(only_audio=True).first()\n",
    "#check for destination to save file\n",
    "print(\"Enter destination (leave blank for the current directory)\")\n",
    "destination=str(input(\">>\")) or \".\"\n",
    "out_file=video.download(output_path=destination)\n",
    "#save the file\n",
    "base,ext=os.path.splitext(out_file)\n",
    "new_file=base+ \".mp3\"\n",
    "os.rename(out_file,new_file) #clcoding.com\n",
    "#result of success\n",
    "print(yt.title+\" has been successfully downloaded in .mp3 format.\")\n"
   ]
  },
  {
   "cell_type": "code",
   "execution_count": null,
   "metadata": {},
   "outputs": [],
   "source": []
  }
 ],
 "metadata": {
  "kernelspec": {
   "display_name": "Python 3 (ipykernel)",
   "language": "python",
   "name": "python3"
  },
  "language_info": {
   "codemirror_mode": {
    "name": "ipython",
    "version": 3
   },
   "file_extension": ".py",
   "mimetype": "text/x-python",
   "name": "python",
   "nbconvert_exporter": "python",
   "pygments_lexer": "ipython3",
   "version": "3.9.6"
  }
 },
 "nbformat": 4,
 "nbformat_minor": 2
}
